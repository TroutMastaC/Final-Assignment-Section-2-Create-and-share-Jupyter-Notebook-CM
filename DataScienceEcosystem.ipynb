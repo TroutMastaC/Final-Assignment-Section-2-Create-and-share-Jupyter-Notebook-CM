{
 "cells": [
  {
   "cell_type": "markdown",
   "id": "72b6685c-42be-492d-a78b-8ed67a802c9f",
   "metadata": {},
   "source": [
    "# Data Science Tools and Ecosystem"
   ]
  },
  {
   "cell_type": "markdown",
   "id": "03d3f2a2-08a0-49c5-9518-f7f19ac4989e",
   "metadata": {},
   "source": [
    "### In this notebook, Data Science Tools and Ecosystem are summarized."
   ]
  },
  {
   "cell_type": "markdown",
   "id": "b92132ac-a51d-418a-8b3f-218531cd4a2c",
   "metadata": {},
   "source": [
    "#### Some of the popular languages that Data Scientists use are:\n",
    "1. SQL\n",
    "2. R\n",
    "3. Python"
   ]
  },
  {
   "cell_type": "markdown",
   "id": "d02946be-5ac6-4f7f-b047-bcf23adefcce",
   "metadata": {},
   "source": [
    "#### Some of the commonly used libraries used by Data Scientists include:\n",
    "1. Pandas\n",
    "2. Numpy\n",
    "3. Mathplotlib\n"
   ]
  },
  {
   "cell_type": "markdown",
   "id": "f48052c5-58b8-4fef-a933-a1263404833f",
   "metadata": {},
   "source": [
    "|Data Science Tools|\n",
    "|--------------|\n",
    "|Hadoop|\n",
    "|Apache Spark|\n",
    "|Apache Superset|\n",
    "|TensorFlow service|\n",
    "|Prometheus|"
   ]
  },
  {
   "cell_type": "markdown",
   "id": "bfea6ee4-bf5a-4d44-b184-49e4b516e192",
   "metadata": {},
   "source": [
    "### Below are a few examples of evaluating arithmetic expressions in Python"
   ]
  },
  {
   "cell_type": "code",
   "execution_count": 6,
   "id": "3f2d567e-a0a5-4576-a969-bb12028267b2",
   "metadata": {},
   "outputs": [
    {
     "data": {
      "text/plain": [
       "17"
      ]
     },
     "execution_count": 6,
     "metadata": {},
     "output_type": "execute_result"
    }
   ],
   "source": [
    "# This a simple arithmetic expression to mutiply then add integers\n",
    "(3*4)+5"
   ]
  },
  {
   "cell_type": "code",
   "execution_count": 7,
   "id": "a73f789b-2b39-4e9f-af07-ade784ab1cc3",
   "metadata": {},
   "outputs": [
    {
     "data": {
      "text/plain": [
       "3.3333333333333335"
      ]
     },
     "execution_count": 7,
     "metadata": {},
     "output_type": "execute_result"
    }
   ],
   "source": [
    "# This will convert 200 minutes to hours by diving by 60\n",
    "200/60"
   ]
  },
  {
   "cell_type": "markdown",
   "id": "50a4a13e-1853-4c30-8073-f0cca129ed4d",
   "metadata": {},
   "source": [
    " **Objectives:**\n",
    "\n",
    "##### List popular languages for Data Science\n",
    "- R\n",
    "- Python\n",
    "- SQL"
   ]
  },
  {
   "cell_type": "markdown",
   "id": "44faec69-cc36-4b88-adef-8c4124cc84cd",
   "metadata": {},
   "source": [
    "## Author\n",
    "Colin Moore"
   ]
  },
  {
   "cell_type": "code",
   "execution_count": null,
   "id": "92c45dec-7228-4315-884b-15be6f229774",
   "metadata": {},
   "outputs": [],
   "source": []
  }
 ],
 "metadata": {
  "kernelspec": {
   "display_name": "Python 3 (ipykernel)",
   "language": "python",
   "name": "python3"
  },
  "language_info": {
   "codemirror_mode": {
    "name": "ipython",
    "version": 3
   },
   "file_extension": ".py",
   "mimetype": "text/x-python",
   "name": "python",
   "nbconvert_exporter": "python",
   "pygments_lexer": "ipython3",
   "version": "3.12.7"
  }
 },
 "nbformat": 4,
 "nbformat_minor": 5
}
